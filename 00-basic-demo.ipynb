{
 "cells": [
  {
   "cell_type": "code",
   "execution_count": 1,
   "metadata": {},
   "outputs": [],
   "source": [
    "%load_ext autoreload\n",
    "%autoreload 2"
   ]
  },
  {
   "cell_type": "code",
   "execution_count": 2,
   "metadata": {},
   "outputs": [],
   "source": [
    "import re"
   ]
  },
  {
   "cell_type": "code",
   "execution_count": 3,
   "metadata": {},
   "outputs": [],
   "source": [
    "import spacy"
   ]
  },
  {
   "cell_type": "code",
   "execution_count": 5,
   "metadata": {},
   "outputs": [],
   "source": [
    "from regex_matcher import RegexMatcher"
   ]
  },
  {
   "cell_type": "code",
   "execution_count": 16,
   "metadata": {},
   "outputs": [],
   "source": [
    "texts = [\n",
    "    \"\"\"\n",
    "    It was the best of times,\n",
    "    it was the worst of times,\n",
    "    it was the age of wisdom,\n",
    "    it was the age of foolishness,\n",
    "    it was the epoch of belief,\n",
    "    it was the epoch of incredulity,\n",
    "    it was the season of Light,\n",
    "    it was the season of Darkness,\n",
    "    it was the spring of hope,\n",
    "    it was the winter of despair,\n",
    "    \"\"\",\n",
    "    \"June 24, 06/25/2020, August 9, 08/09/2019, Dec 12, 12/12/2012\"\n",
    "        ]"
   ]
  },
  {
   "cell_type": "code",
   "execution_count": 88,
   "metadata": {},
   "outputs": [],
   "source": [
    "nlp = spacy.load(\"en_core_web_sm\")"
   ]
  },
  {
   "cell_type": "code",
   "execution_count": 89,
   "metadata": {},
   "outputs": [],
   "source": [
    "matcher = RegexMatcher(nlp.vocab)"
   ]
  },
  {
   "cell_type": "code",
   "execution_count": 90,
   "metadata": {},
   "outputs": [],
   "source": [
    "docs = list(nlp.pipe(texts))"
   ]
  },
  {
   "cell_type": "code",
   "execution_count": 91,
   "metadata": {},
   "outputs": [],
   "source": [
    "matcher.add(\"tale_of_two_cities\", [\"the [a-z]+ of [A-Z][a-z]+\"])\n",
    "matcher.add(\"date\", [\"[a-zA-Z]+ \\d+\", \"(\\d+/\\d+/\\d+)\"])"
   ]
  },
  {
   "cell_type": "code",
   "execution_count": 99,
   "metadata": {},
   "outputs": [
    {
     "name": "stdout",
     "output_type": "stream",
     "text": [
      "[(15660241020472764352, 51, 55), (15660241020472764352, 59, 63)]\n",
      "tale_of_two_cities the season of Light\n",
      "tale_of_two_cities the season of Darkness\n",
      "\n",
      "[(15387552459474943870, 0, 2), (15387552459474943870, 5, 7), (15387552459474943870, 10, 12), (15387552459474943870, 3, 4), (15387552459474943870, 8, 9), (15387552459474943870, 13, 14)]\n",
      "date June 24\n",
      "date August 9\n",
      "date Dec 12\n",
      "date 06/25/2020\n",
      "date 08/09/2019\n",
      "date 12/12/2012\n",
      "\n"
     ]
    }
   ],
   "source": [
    "for doc in docs:\n",
    "    matches = matcher(doc)\n",
    "    print(matches)\n",
    "    for (match_id, start, end) in matches:\n",
    "        print(nlp.vocab.strings[match_id], doc[start:end])\n",
    "    print()"
   ]
  },
  {
   "cell_type": "code",
   "execution_count": null,
   "metadata": {},
   "outputs": [],
   "source": []
  }
 ],
 "metadata": {
  "kernelspec": {
   "display_name": "Python 3",
   "language": "python",
   "name": "python3"
  },
  "language_info": {
   "codemirror_mode": {
    "name": "ipython",
    "version": 3
   },
   "file_extension": ".py",
   "mimetype": "text/x-python",
   "name": "python",
   "nbconvert_exporter": "python",
   "pygments_lexer": "ipython3",
   "version": "3.6.9"
  }
 },
 "nbformat": 4,
 "nbformat_minor": 2
}
